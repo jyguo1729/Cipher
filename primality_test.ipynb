{
 "cells": [
  {
   "cell_type": "code",
   "execution_count": 1,
   "metadata": {},
   "outputs": [
    {
     "name": "stdout",
     "output_type": "stream",
     "text": [
      "testing nbit_odd\n",
      "function nbit_odd passed unit test\n",
      "testing is_MRnonwitness\n",
      "function is_MRnonwitness passed unit test\n",
      "testing generate_prime\n",
      "function generate_prime passed unit test\n",
      "testing nbit_odd\n",
      "function nbit_odd passed unit test\n",
      "testing is_MRnonwitness\n",
      "function is_MRnonwitness passed unit test\n",
      "testing generate_prime\n",
      "function generate_prime passed unit test\n"
     ]
    },
    {
     "name": "stderr",
     "output_type": "stream",
     "text": [
      "C:\\Users\\guoji\\Anaconda3\\lib\\site-packages\\ipykernel\\parentpoller.py:116: UserWarning: Parent poll failed.  If the frontend dies,\n",
      "                the kernel may be left running.  Please let us know\n",
      "                about your system (bitness, Python, etc.) at\n",
      "                ipython-dev@scipy.org\n",
      "  ipython-dev@scipy.org\"\"\")\n"
     ]
    }
   ],
   "source": [
    "%run test_MR.py\n",
    "%run test_MR.py\n",
    "from time import time\n"
   ]
  },
  {
   "cell_type": "code",
   "execution_count": 2,
   "metadata": {},
   "outputs": [],
   "source": [
    "from MR import generate_prime\n",
    "from MR_old import generate_prime as generate_prime_old "
   ]
  },
  {
   "cell_type": "code",
   "execution_count": 11,
   "metadata": {},
   "outputs": [
    {
     "name": "stdout",
     "output_type": "stream",
     "text": [
      "472687\n",
      "0.0009970664978027344\n"
     ]
    }
   ],
   "source": [
    "from time import time\n",
    "t=time()\n",
    "print(generate_prime(19))\n",
    "print(time()-t)"
   ]
  },
  {
   "cell_type": "code",
   "execution_count": 10,
   "metadata": {},
   "outputs": [
    {
     "name": "stdout",
     "output_type": "stream",
     "text": [
      "471217\n",
      "4.398488283157349\n"
     ]
    }
   ],
   "source": [
    "from time import time\n",
    "t=time()\n",
    "print(generate_prime_old(19))\n",
    "print(time()-t)"
   ]
  },
  {
   "cell_type": "code",
   "execution_count": 13,
   "metadata": {},
   "outputs": [
    {
     "name": "stdout",
     "output_type": "stream",
     "text": [
      "32038613380410742583167781598598533741633664259431040625397292172737022088592713498109509502620635188018283497984832254656606337408564933513046843315670165056757085144031287098700098856418714872215947941580558638819251322862416216722652997254166183530370758281945026711689129224432588493182503924174277193269401951123228910908608017472870135017020261939249141373867519132269426435431045307057745537836218586297852349896802343656698835989472677818042729339536580607232492365654903516885535744618517754889103993140001132825646861794078763308706436668375702974755215081432353667961755024526022051437646176003390500864017\n",
      "27.614171504974365\n"
     ]
    }
   ],
   "source": [
    "from time import time\n",
    "t=time()\n",
    "print(generate_prime(2048))\n",
    "print(time()-t)"
   ]
  },
  {
   "cell_type": "code",
   "execution_count": null,
   "metadata": {},
   "outputs": [],
   "source": []
  }
 ],
 "metadata": {
  "kernelspec": {
   "display_name": "Python 3",
   "language": "python",
   "name": "python3"
  },
  "language_info": {
   "codemirror_mode": {
    "name": "ipython",
    "version": 3
   },
   "file_extension": ".py",
   "mimetype": "text/x-python",
   "name": "python",
   "nbconvert_exporter": "python",
   "pygments_lexer": "ipython3",
   "version": "3.7.0"
  }
 },
 "nbformat": 4,
 "nbformat_minor": 2
}
